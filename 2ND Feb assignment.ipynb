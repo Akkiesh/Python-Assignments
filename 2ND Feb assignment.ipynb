{
 "cells": [
  {
   "cell_type": "code",
   "execution_count": null,
   "id": "9560bd2f-d980-408d-a4ed-ac7874ce8023",
   "metadata": {},
   "outputs": [],
   "source": [
    "#Q1. What are the characteristics of the tuples? Is tuple immutable?"
   ]
  },
  {
   "cell_type": "code",
   "execution_count": null,
   "id": "ae2404cb-dfd1-4eee-96fc-0b95b4cb4e66",
   "metadata": {},
   "outputs": [],
   "source": [
    "#1)Characteristics of a tuple\n",
    "#Tuples are immutable\n",
    "#Represented by circular paranthese\n",
    "#Can accept various types of code\n"
   ]
  },
  {
   "cell_type": "code",
   "execution_count": null,
   "id": "cd45ad51-6858-4b35-92fb-593e22363efa",
   "metadata": {},
   "outputs": [],
   "source": [
    "#Q2. What are the two tuple methods in python? Give an example of each method. Give a reason why\n",
    "tuples have only two in-built methods as compared to Lists."
   ]
  },
  {
   "cell_type": "code",
   "execution_count": 9,
   "id": "9235def4-3e92-4ed3-9a1e-0c62e49698fd",
   "metadata": {},
   "outputs": [],
   "source": [
    "#2)The two tuple methods are:\n",
    "#index\n",
    "#count\n",
    "#tuples are immutable and list are mutable.So tuples have only 2 methods while list has many.\n",
    "t=(1,2,3,\"gokul,akkiesh\",True,2,3,1)\n"
   ]
  },
  {
   "cell_type": "code",
   "execution_count": 10,
   "id": "e893f394-236c-4038-ae83-6cdef742fbff",
   "metadata": {},
   "outputs": [
    {
     "data": {
      "text/plain": [
       "0"
      ]
     },
     "execution_count": 10,
     "metadata": {},
     "output_type": "execute_result"
    }
   ],
   "source": [
    "t.index(1)"
   ]
  },
  {
   "cell_type": "code",
   "execution_count": 13,
   "id": "3928d9eb-a27c-44a1-8f69-6294a290c8f3",
   "metadata": {},
   "outputs": [
    {
     "data": {
      "text/plain": [
       "2"
      ]
     },
     "execution_count": 13,
     "metadata": {},
     "output_type": "execute_result"
    }
   ],
   "source": [
    "t.count(2)"
   ]
  },
  {
   "cell_type": "code",
   "execution_count": null,
   "id": "801174bd-9f3c-4af3-9e7d-705d18660d01",
   "metadata": {},
   "outputs": [],
   "source": [
    "\"Q3. Which collection datatypes in python do not allow duplicate items? Write a code using a set to remove\n",
    "\"duplicates from the given list.\"\n",
    "\"List = [1, 1, 1, 2, 1, 3, 1, 4, 2, 1, 2, 2, 2, 3, 2, 4, 3, 1, 3, 2, 3, 3, 3, 4, 4, 1, 4, 2, 4, 3, 4, 4]\""
   ]
  },
  {
   "cell_type": "code",
   "execution_count": 14,
   "id": "b00cb24d-089e-40c3-8c5f-0395c7ac7f4f",
   "metadata": {},
   "outputs": [
    {
     "data": {
      "text/plain": [
       "{1, 2, 3, 4}"
      ]
     },
     "execution_count": 14,
     "metadata": {},
     "output_type": "execute_result"
    }
   ],
   "source": [
    "#3) Sets is a datatype which do not allow duplicate or repeating elements \n",
    "List = [1, 1, 1, 2, 1, 3, 1, 4, 2, 1, 2, 2, 2, 3, 2, 4, 3, 1, 3, 2, 3, 3, 3, 4, 4, 1, 4, 2, 4, 3, 4, 4]\n",
    "set(List)"
   ]
  },
  {
   "cell_type": "code",
   "execution_count": null,
   "id": "5cca59a8-5a65-4446-808d-86f2d7790444",
   "metadata": {},
   "outputs": [],
   "source": [
    "#Q4. Explain the difference between the union() and update() methods for a set. Give an example of\n",
    "#each method."
   ]
  },
  {
   "cell_type": "code",
   "execution_count": 20,
   "id": "cac4d38c-64bc-4f37-ae7c-839c6ee1f706",
   "metadata": {},
   "outputs": [],
   "source": [
    "#4)union combines two or more sets togeather into one, while update includes the element whic is not present in the given set with respct\n",
    "#an otheer set\n",
    "a= {1,2,3,4,5}\n",
    "b= {\"maths\",\"physics\",\"biology\",\"chemistry\"}\n",
    "c= {True,False,\"Madhumohan\"}\n"
   ]
  },
  {
   "cell_type": "code",
   "execution_count": 24,
   "id": "8060ffdc-6f34-430c-8caa-d1006b73393c",
   "metadata": {},
   "outputs": [
    {
     "data": {
      "text/plain": [
       "{1, 2, 3, 4, 5, 'biology', 'chemistry', 'maths', 'physics'}"
      ]
     },
     "execution_count": 24,
     "metadata": {},
     "output_type": "execute_result"
    }
   ],
   "source": [
    "a.union(b)"
   ]
  },
  {
   "cell_type": "code",
   "execution_count": 26,
   "id": "f57d88b7-f4ff-4ab4-886a-a107645cd722",
   "metadata": {},
   "outputs": [],
   "source": [
    "a.update(c)"
   ]
  },
  {
   "cell_type": "code",
   "execution_count": 27,
   "id": "c1acfb43-7323-43a4-99a0-221860c0f76f",
   "metadata": {},
   "outputs": [
    {
     "data": {
      "text/plain": [
       "{1, 2, 3, 4, 5, False, 'Madhumohan'}"
      ]
     },
     "execution_count": 27,
     "metadata": {},
     "output_type": "execute_result"
    }
   ],
   "source": [
    "a"
   ]
  },
  {
   "cell_type": "code",
   "execution_count": null,
   "id": "f866b206-1dce-4be9-8872-2a172a733561",
   "metadata": {},
   "outputs": [],
   "source": [
    "#Q5. What is a dictionary? Give an example. Also, state whether a dictionary is ordered or unordered."
   ]
  },
  {
   "cell_type": "code",
   "execution_count": 47,
   "id": "59a21fe0-cd02-4034-9f05-8e5c34d9c9d1",
   "metadata": {},
   "outputs": [],
   "source": [
    "#5)Dictionaries is data storing method where values/elements are acessed by keys.It is represented by {} \n",
    "#elements/values comes under a particular key.\n",
    "d={'yes':('akkiesh','google anand','madhumohan'), 'no':'waterbottle','pencil':[2,4,5]}"
   ]
  },
  {
   "cell_type": "code",
   "execution_count": 48,
   "id": "91665e80-b726-4a41-bc89-82785542f8a0",
   "metadata": {},
   "outputs": [
    {
     "data": {
      "text/plain": [
       "{'yes': ('akkiesh', 'google anand', 'madhumohan'),\n",
       " 'no': 'waterbottle',\n",
       " 'pencil': [2, 4, 5]}"
      ]
     },
     "execution_count": 48,
     "metadata": {},
     "output_type": "execute_result"
    }
   ],
   "source": [
    "d"
   ]
  },
  {
   "cell_type": "code",
   "execution_count": 49,
   "id": "d27bb2c0-0b5c-4e10-bef2-fad573bd465f",
   "metadata": {},
   "outputs": [],
   "source": [
    "##yes the above dictionary are ordered"
   ]
  },
  {
   "cell_type": "code",
   "execution_count": null,
   "id": "26e4701b-ca7e-413d-8d04-a822cd050699",
   "metadata": {},
   "outputs": [],
   "source": [
    "#Q6. Can we create a nested dictionary? If so, please give an example by creating a simple one-level\n",
    "#nested dictionary."
   ]
  },
  {
   "cell_type": "code",
   "execution_count": 52,
   "id": "9c01d5b2-ea8d-4899-aea3-c8aaa3231dbd",
   "metadata": {},
   "outputs": [],
   "source": [
    "##6)Yes it is possible to declare a nested dictionary\n",
    "e={'cars':'bmw','benz':(1,2,3)}"
   ]
  },
  {
   "cell_type": "code",
   "execution_count": 53,
   "id": "74f13e5b-9381-453f-9901-d18aab1bf95d",
   "metadata": {},
   "outputs": [
    {
     "data": {
      "text/plain": [
       "{'cars': 'bmw', 'benz': (1, 2, 3)}"
      ]
     },
     "execution_count": 53,
     "metadata": {},
     "output_type": "execute_result"
    }
   ],
   "source": [
    "e"
   ]
  },
  {
   "cell_type": "code",
   "execution_count": null,
   "id": "de536bed-4ba8-467f-ac98-31395dbe28d7",
   "metadata": {},
   "outputs": [],
   "source": [
    "#Q7. Using setdefault() method, create key named topics in the given dictionary and also add the value of\n",
    "#the key as this list ['Python', 'Machine Learning’, 'Deep Learning']\n",
    "#dict1 = {'language' : 'Python', 'course': 'Data Science Masters'}"
   ]
  },
  {
   "cell_type": "code",
   "execution_count": 61,
   "id": "7905e386-360b-466e-9fd1-1551192d5fcf",
   "metadata": {},
   "outputs": [
    {
     "data": {
      "text/plain": [
       "['Python', 'Machine Learning', 'Deep Learning']"
      ]
     },
     "execution_count": 61,
     "metadata": {},
     "output_type": "execute_result"
    }
   ],
   "source": [
    "#7)\n",
    "dict1 = {'language' : 'Python', 'course': 'Data Science Masters'}\n",
    "dict1.setdefault('topics',[\"Python\",\"Machine Learning\",\"Deep Learning\" ])"
   ]
  },
  {
   "cell_type": "code",
   "execution_count": 62,
   "id": "a05dc317-c51e-4915-868e-80283134afc5",
   "metadata": {},
   "outputs": [
    {
     "data": {
      "text/plain": [
       "{'language': 'Python',\n",
       " 'course': 'Data Science Masters',\n",
       " 'topics': ['Python', 'Machine Learning', 'Deep Learning']}"
      ]
     },
     "execution_count": 62,
     "metadata": {},
     "output_type": "execute_result"
    }
   ],
   "source": [
    "dict1"
   ]
  },
  {
   "cell_type": "code",
   "execution_count": null,
   "id": "4f8f6263-e887-4ffe-9d2d-8e9eba73f490",
   "metadata": {},
   "outputs": [],
   "source": [
    "#Q8. What are the three view objects in dictionaries? Use the three in-built methods in python to display\n",
    "#these three view objects for the given dictionary.\n",
    "#dict1 = {'Sport': 'Cricket' , 'Teams': ['India', 'Australia', 'England', 'South Africa', 'Sri Lanka', 'New Zealand']}"
   ]
  },
  {
   "cell_type": "code",
   "execution_count": null,
   "id": "d2e9f039-878c-4dde-bd8d-450694ae8972",
   "metadata": {},
   "outputs": [],
   "source": [
    "#8)\n",
    "#The three view objects in dictionaries are\n",
    "#dict.keys()\n",
    "#dict.value()\n",
    "#dict.items()\n",
    "dict1 = {'Sport': 'Cricket' , 'Teams': ['India', 'Australia', 'England', 'South Africa', 'Sri Lanka', 'New Zealand']}"
   ]
  },
  {
   "cell_type": "code",
   "execution_count": 64,
   "id": "78bdbf75-fd4e-4241-b36b-c021851d69f9",
   "metadata": {},
   "outputs": [
    {
     "data": {
      "text/plain": [
       "dict_keys(['language', 'course', 'topics'])"
      ]
     },
     "execution_count": 64,
     "metadata": {},
     "output_type": "execute_result"
    }
   ],
   "source": [
    "dict1.keys()"
   ]
  },
  {
   "cell_type": "code",
   "execution_count": 66,
   "id": "dea3f013-dc67-4b87-a7c2-27de3f4587e0",
   "metadata": {},
   "outputs": [
    {
     "data": {
      "text/plain": [
       "dict_values(['Python', 'Data Science Masters', ['Python', 'Machine Learning', 'Deep Learning']])"
      ]
     },
     "execution_count": 66,
     "metadata": {},
     "output_type": "execute_result"
    }
   ],
   "source": [
    "dict1.values()"
   ]
  },
  {
   "cell_type": "code",
   "execution_count": 67,
   "id": "6f302932-4116-44d7-84a6-725bcf982b68",
   "metadata": {},
   "outputs": [
    {
     "data": {
      "text/plain": [
       "dict_items([('language', 'Python'), ('course', 'Data Science Masters'), ('topics', ['Python', 'Machine Learning', 'Deep Learning'])])"
      ]
     },
     "execution_count": 67,
     "metadata": {},
     "output_type": "execute_result"
    }
   ],
   "source": [
    "dict1.items()"
   ]
  }
 ],
 "metadata": {
  "kernelspec": {
   "display_name": "Python 3 (ipykernel)",
   "language": "python",
   "name": "python3"
  },
  "language_info": {
   "codemirror_mode": {
    "name": "ipython",
    "version": 3
   },
   "file_extension": ".py",
   "mimetype": "text/x-python",
   "name": "python",
   "nbconvert_exporter": "python",
   "pygments_lexer": "ipython3",
   "version": "3.10.8"
  }
 },
 "nbformat": 4,
 "nbformat_minor": 5
}
