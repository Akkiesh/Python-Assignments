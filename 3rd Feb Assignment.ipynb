{
 "cells": [
  {
   "cell_type": "code",
   "execution_count": 1,
   "id": "8ab51538-d9e2-4217-bdaa-65a5e3f4e089",
   "metadata": {},
   "outputs": [],
   "source": [
    "###Q1. Which keyword is used to create a function? Create a function to return a list of odd numbers in the\n",
    "#range of 1 to 25.\n",
    "#Q2. Why *args and **kwargs is used in some functions? Create a function each for *args and **kwargs to\n",
    "#demonstrate their use.\n",
    "#Q3. What is an iterator in python? Name the method used to initialise the iterator object and the method\n",
    "#used for iteration. Use these methods to print the first five elements of the given list [2, 4, 6, 8, 10, 12, 14, 16,\n",
    "#18, 20].\n",
    "#Q4. What is a generator function in python? Why yield keyword is used? Give an example of a generator\n",
    "#function.\n",
    "#Q5. Create a generator function for prime numbers less than 1000. Use the next() method to print the\n",
    "#first 20 prime numbers."
   ]
  },
  {
   "cell_type": "code",
   "execution_count": 23,
   "id": "78a950f0-fe95-42e0-b371-00a8668de005",
   "metadata": {},
   "outputs": [],
   "source": [
    "#1)\n",
    "\"\"\"def is the keyword used for creating a function\"\"\"\n",
    "def test():\n",
    "    n = []\n",
    "    for i in range(1,26):\n",
    "        if i%2!=0:\n",
    "            n.append(i)\n",
    "    return n    "
   ]
  },
  {
   "cell_type": "code",
   "execution_count": 24,
   "id": "66f231aa-405b-45c6-9c6d-0379ceef673c",
   "metadata": {},
   "outputs": [
    {
     "data": {
      "text/plain": [
       "[1, 3, 5, 7, 9, 11, 13, 15, 17, 19, 21, 23, 25]"
      ]
     },
     "execution_count": 24,
     "metadata": {},
     "output_type": "execute_result"
    }
   ],
   "source": [
    "test()"
   ]
  },
  {
   "cell_type": "code",
   "execution_count": null,
   "id": "2bfe4057-ad4a-4e50-99e6-4736d94d70c3",
   "metadata": {},
   "outputs": [],
   "source": [
    "#2)\n",
    "#args is used for passing unknown number of arguments and kwargs is used for passing arguments with keywords "
   ]
  },
  {
   "cell_type": "code",
   "execution_count": 26,
   "id": "0e01f9e1-b286-47fe-bf8d-a356175257c4",
   "metadata": {},
   "outputs": [],
   "source": [
    "def ak(*args):\n",
    "    return args\n",
    "  "
   ]
  },
  {
   "cell_type": "code",
   "execution_count": 27,
   "id": "b9b3ee12-5afb-4957-8dd9-5aaf5d7f050a",
   "metadata": {},
   "outputs": [],
   "source": [
    "ak =( 1,2,3,4,5)"
   ]
  },
  {
   "cell_type": "code",
   "execution_count": 28,
   "id": "46313fe1-f55c-4691-95d9-6b93f3b3e4c9",
   "metadata": {},
   "outputs": [
    {
     "data": {
      "text/plain": [
       "(1, 2, 3, 4, 5)"
      ]
     },
     "execution_count": 28,
     "metadata": {},
     "output_type": "execute_result"
    }
   ],
   "source": [
    "ak"
   ]
  },
  {
   "cell_type": "code",
   "execution_count": 29,
   "id": "fbe1ebc1-63d3-47b4-ae07-eac746910271",
   "metadata": {},
   "outputs": [],
   "source": [
    "def bk(**kwargs):\n",
    "    return kwargs"
   ]
  },
  {
   "cell_type": "code",
   "execution_count": 36,
   "id": "dcaa5b73-0b1f-4c80-8db1-2960f0403ba3",
   "metadata": {},
   "outputs": [
    {
     "data": {
      "text/plain": [
       "{'a': 1, 'b': ['akkiesh,gokul'], 'c': ('weather', 1, 2, 3)}"
      ]
     },
     "execution_count": 36,
     "metadata": {},
     "output_type": "execute_result"
    }
   ],
   "source": [
    "bk(a=1,b= ['akkiesh,gokul'],c=('weather',1,2,3))"
   ]
  },
  {
   "cell_type": "code",
   "execution_count": 1,
   "id": "6389d4d5-0758-4d83-afa7-5e9ccda65a4c",
   "metadata": {},
   "outputs": [],
   "source": [
    "#3)\n",
    "#An iterator is a variable that can be used for iterating through many values.It can take any value and can \n",
    "#change according to iteration\n",
    "#iter() is a method to initialise the iterator object"
   ]
  },
  {
   "cell_type": "code",
   "execution_count": 3,
   "id": "fcea6ccf-b156-4f74-8bb7-856e8af98837",
   "metadata": {},
   "outputs": [
    {
     "name": "stdout",
     "output_type": "stream",
     "text": [
      "2\n",
      "4\n",
      "6\n",
      "8\n",
      "10\n"
     ]
    }
   ],
   "source": [
    "lst = [2, 4, 6, 8, 10, 12, 14, 16,18, 20]\n",
    "a = iter(lst)\n",
    "for i in range(5):\n",
    "    print(next(a))"
   ]
  },
  {
   "cell_type": "code",
   "execution_count": null,
   "id": "c38fcd0a-5a9e-4dab-9865-eb7c31ce2abb",
   "metadata": {},
   "outputs": [],
   "source": [
    "#4)\n",
    "\"1)A generator function is a function which returns iteratiors that can be used to generate multiple outputs\"\n",
    "\"instead of using return keyword,generator function uses yeild.When yield is enetered in a code,it executes iterations one at a time.It can\n",
    "\"stop the function and return a value yeilded at that particular state\""
   ]
  },
  {
   "cell_type": "code",
   "execution_count": 20,
   "id": "b0abf82a-b2bc-486c-a378-29cdea45d93e",
   "metadata": {},
   "outputs": [],
   "source": [
    "##example\n",
    "def test1(n):\n",
    "    for i in range(n):\n",
    "        if i%2==0:\n",
    "            yield i"
   ]
  },
  {
   "cell_type": "code",
   "execution_count": null,
   "id": "49582d08-f076-4cb2-8dca-c24ebf018ba5",
   "metadata": {},
   "outputs": [],
   "source": [
    "for num in test1(10):\n",
    "    print(num)"
   ]
  },
  {
   "cell_type": "code",
   "execution_count": 89,
   "id": "1a2c4117-e22f-49fa-969f-e31f956f9797",
   "metadata": {},
   "outputs": [],
   "source": [
    "def get_prime(n):\n",
    "    i = 2\n",
    "    while i < n:\n",
    "        prime = True\n",
    "        for a in range(2,i):\n",
    "            if i%2 == 0:\n",
    "                prime = False\n",
    "                break\n",
    "        if prime:\n",
    "            yield i\n",
    "        i += 1    "
   ]
  },
  {
   "cell_type": "code",
   "execution_count": null,
   "id": "07912441-4744-475b-a4a0-fa1c23ea5458",
   "metadata": {},
   "outputs": [],
   "source": [
    "primes = get_prime(1000)\n",
    "for i in range(20):\n",
    "    print(next)"
   ]
  },
  {
   "cell_type": "code",
   "execution_count": null,
   "id": "5a8b431a-57e9-4282-9f63-ab8a8eb1cd1f",
   "metadata": {},
   "outputs": [],
   "source": []
  },
  {
   "cell_type": "code",
   "execution_count": null,
   "id": "8b278f8d-2226-4d1f-82f9-2b92797a67fb",
   "metadata": {},
   "outputs": [],
   "source": []
  },
  {
   "cell_type": "code",
   "execution_count": null,
   "id": "da9284a5-18d3-4020-8ccc-c0d1e3e620e6",
   "metadata": {},
   "outputs": [],
   "source": []
  },
  {
   "cell_type": "code",
   "execution_count": null,
   "id": "85b9a6b1-fc59-4295-ac58-4c284dcdc54a",
   "metadata": {},
   "outputs": [],
   "source": []
  },
  {
   "cell_type": "code",
   "execution_count": null,
   "id": "3456fd23-6446-4e49-8809-f1185d1dad48",
   "metadata": {},
   "outputs": [],
   "source": []
  },
  {
   "cell_type": "code",
   "execution_count": null,
   "id": "59043a40-f07b-4b8a-8553-708be5227b62",
   "metadata": {},
   "outputs": [],
   "source": []
  },
  {
   "cell_type": "code",
   "execution_count": null,
   "id": "bfc0f239-80a6-4b46-85af-fe82251687c4",
   "metadata": {},
   "outputs": [],
   "source": []
  },
  {
   "cell_type": "code",
   "execution_count": null,
   "id": "fa35ceda-ca75-43ae-8990-38bb36f3afe1",
   "metadata": {},
   "outputs": [],
   "source": []
  },
  {
   "cell_type": "code",
   "execution_count": null,
   "id": "7fc36d48-6813-4477-ad65-d02c45447323",
   "metadata": {},
   "outputs": [],
   "source": []
  },
  {
   "cell_type": "code",
   "execution_count": null,
   "id": "c7005485-d900-43db-b5ae-d0ab11359a95",
   "metadata": {},
   "outputs": [],
   "source": []
  }
 ],
 "metadata": {
  "kernelspec": {
   "display_name": "Python 3 (ipykernel)",
   "language": "python",
   "name": "python3"
  },
  "language_info": {
   "codemirror_mode": {
    "name": "ipython",
    "version": 3
   },
   "file_extension": ".py",
   "mimetype": "text/x-python",
   "name": "python",
   "nbconvert_exporter": "python",
   "pygments_lexer": "ipython3",
   "version": "3.10.8"
  }
 },
 "nbformat": 4,
 "nbformat_minor": 5
}
